{
 "cells": [
  {
   "cell_type": "code",
   "execution_count": 15,
   "metadata": {},
   "outputs": [],
   "source": [
    "import pandas as pd\n",
    "import numpy as np\n",
    "import matplotlib.pyplot as plt\n",
    "import seaborn as sns\n",
    "import matplotlib as mpl\n",
    "plt.style.use('ggplot')\n",
    "pd.set_option('display.max_rows', 1000)\n",
    "\n",
    "\n",
    "ad = pd.read_csv('AllDeliveries.csv')\n",
    "am = pd.read_csv('TableOfMatches.csv')\n",
    "ap = pd.read_csv('AllPlayers.csv')\n",
    "st = pd.read_stata('ScoreTallies.dta')\n",
    "ad = ad.drop('Unnamed: 0',axis=1)\n",
    "am = am.drop('Unnamed: 0',axis=1)\n",
    "ap = ap.drop('Unnamed: 0.1',axis=1)"
   ]
  },
  {
   "cell_type": "code",
   "execution_count": 16,
   "metadata": {},
   "outputs": [],
   "source": [
    "NOutcomes = 8 #W 0 1 2 3 4 5 6\n",
    "NRunRates = 21 #0 1 2 3 4 5 6 7 8 9 10 11 12 13 14 15 16 17 18 19 20\n",
    "NPlayers = 11 #obvious\n",
    "\n",
    "#example:\n",
    "ProbsVector = (1/8)*np.ones((NOutcomes,NRunRates))"
   ]
  },
  {
   "cell_type": "code",
   "execution_count": 17,
   "metadata": {},
   "outputs": [],
   "source": [
    "class Player:\n",
    "    def __init__(self,ProbArray):\n",
    "        self.ProbArray = ProbArray;\n",
    "        self.Outcomes = [0,1,2,3,4,5,6,np.nan];\n",
    "        self.LastInnings = [];\n",
    "        \n",
    "    def ProbVector(self,runrate):\n",
    "        return self.ProbArray[:,runrate]\n",
    "    \n",
    "    def RunDelivery(self,runrate):\n",
    "        return self.Outcomes[np.argmax(self.ProbArray[:,runrate].cumsum() > np.random.random())]\n",
    "    \n",
    "    def RunTillWicket(self,runrate):\n",
    "        a = self.RunDelivery(runrate)\n",
    "        l = []; n=0;\n",
    "        while ~(np.isnan(a)) & (n<120):\n",
    "            l.append(a);\n",
    "            a = self.RunDelivery(runrate); n+=1;\n",
    "        l.append(a);\n",
    "        self.LastInnings = np.array(l);\n",
    "        return l\n",
    "    \n",
    "def RunDelivery(ProbsVector):\n",
    "    ProbsVector = [0,1,2,3,4,5,6,np.nan]\n",
    "    return ProbsVector[np.argmax(ProbVector.cumsum() > np.random.random())]"
   ]
  },
  {
   "cell_type": "code",
   "execution_count": 18,
   "metadata": {},
   "outputs": [
    {
     "data": {
      "text/plain": [
       "array([0., 0., 0., 0., 0., 0., 0., 0.])"
      ]
     },
     "execution_count": 18,
     "metadata": {},
     "output_type": "execute_result"
    }
   ],
   "source": [
    "ProbArray = np.zeros((NOutcomes,NRunRates))\n",
    "ProbArray[:,2]"
   ]
  },
  {
   "cell_type": "code",
   "execution_count": 19,
   "metadata": {},
   "outputs": [],
   "source": [
    "asad = Player(ProbsVector)"
   ]
  },
  {
   "cell_type": "code",
   "execution_count": 20,
   "metadata": {},
   "outputs": [
    {
     "data": {
      "image/png": "[encoded data removed]",
      "text/plain": [
       "<Figure size 432x288 with 1 Axes>"
      ]
     },
     "metadata": {},
     "output_type": "display_data"
    }
   ],
   "source": [
    "plt.hist(np.array([np.nansum(asad.RunTillWicket(3)) for a in range(500)]))\n",
    "plt.show()"
   ]
  },
  {
   "cell_type": "code",
   "execution_count": 21,
   "metadata": {},
   "outputs": [],
   "source": [
    "def RunMatch(rrs,Players):\n",
    "    Batsmen = [0,1];Next = 2; Innings=np.array([]);\n",
    "    Scores = [0]*len(Players);\n",
    "    for i in range(120):\n",
    "        PlayerBatting = Players[Batsmen[0]];\n",
    "        delOutcome = PlayerBatting.RunDelivery(rrs[Batsmen[0]]);\n",
    "        if np.isnan(delOutcome):\n",
    "            Batsmen[0] = Next;\n",
    "            Next = Next + 1;\n",
    "        else:\n",
    "            Scores[Batsmen[0]] += delOutcome;\n",
    "        if np.isin(delOutcome,[1,3,5]):\n",
    "            Batsmen = [Batsmen[1],Batsmen[0]];\n",
    "        Innings = np.append(Innings,delOutcome)\n",
    "        if Next > 11:\n",
    "            break\n",
    "    return Innings,Scores\n",
    "\n",
    "def RunMatchOptimized(rrs,Players):\n",
    "    Batsmen = [0,1];Next = 2; runs=0;\n",
    "    for i in range(120):\n",
    "        PlayerBatting = Players[Batsmen[0]];\n",
    "        delOutcome = PlayerBatting.RunDelivery(rrs[Batsmen[0]]);\n",
    "        if np.isnan(delOutcome):\n",
    "            Batsmen[0] = Next;\n",
    "            Next = Next + 1;\n",
    "        elif np.isin(delOutcome,[1,3,5]):\n",
    "            Batsmen = [Batsmen[1],Batsmen[0]];\n",
    "            runs = runs+delOutcome;\n",
    "        else:\n",
    "            runs = runs+delOutcome;\n",
    "        if Next > 11:\n",
    "            break\n",
    "    return runs"
   ]
  },
  {
   "cell_type": "code",
   "execution_count": 22,
   "metadata": {},
   "outputs": [],
   "source": [
    "class Strategy:\n",
    "    def __init__(self,RRR=[],):\n",
    "        self.Rates = RRR\n",
    "    \n",
    "    def BatsmanStrat(Batsman,RRR,Over):\n",
    "        return rrr[Batsman]"
   ]
  },
  {
   "cell_type": "code",
   "execution_count": 23,
   "metadata": {},
   "outputs": [],
   "source": [
    "def asad(a):\n",
    "    return a"
   ]
  },
  {
   "cell_type": "code",
   "execution_count": 24,
   "metadata": {},
   "outputs": [
    {
     "data": {
      "text/plain": [
       "(array([ 4.,  3.,  4.,  4.,  1.,  2.,  0.,  3.,  1.,  0.,  1., nan,  1.,\n",
       "         6., nan,  3.,  5., nan,  2.,  4.,  1.,  4.,  5.,  6.,  6.,  2.,\n",
       "         6.,  5.,  6., nan,  0., nan, nan,  0.,  5., nan,  2.,  4., nan,\n",
       "         3.,  6.,  6.,  6.,  0.,  2.,  3.,  2.,  5.,  0.,  2.,  6.,  1.,\n",
       "         1.,  4.,  1.,  1.,  0.,  5.,  0.,  4.,  2., nan,  5.,  1.,  0.,\n",
       "         5.,  5.,  2.,  1.,  2.,  6.,  2.,  6.,  0.,  3.,  6.,  3., nan]),\n",
       " [19, 10, 21, 3, 32, 0, 0, 72, 6, 18, 22])"
      ]
     },
     "execution_count": 24,
     "metadata": {},
     "output_type": "execute_result"
    }
   ],
   "source": [
    "rrs = [3,4,4,5,6,2,3,4,5,6,4];\n",
    "Players = [Player(ProbsVector) for a in range(11)];\n",
    "RunMatch(rrs,Players)"
   ]
  },
  {
   "cell_type": "code",
   "execution_count": 25,
   "metadata": {},
   "outputs": [],
   "source": [
    "final = pd.read_stata('merged.dta')"
   ]
  },
  {
   "cell_type": "code",
   "execution_count": 26,
   "metadata": {},
   "outputs": [],
   "source": [
    "#Turn on or off depending on dataset\n",
    "from sklearn.model_selection import train_test_split\n",
    "train, test = train_test_split(final,test_size=0.8)\n",
    "final = train"
   ]
  },
  {
   "cell_type": "code",
   "execution_count": 27,
   "metadata": {},
   "outputs": [],
   "source": [
    "final['dels'] = final.dots_ + final.ones_ + final.twos_ + final.threes_ + final.fours_ + final.fives_ + final.sixes_ + final.out"
   ]
  },
  {
   "cell_type": "code",
   "execution_count": 46,
   "metadata": {},
   "outputs": [],
   "source": [
    "ta = final[['batsman','rrr','dots_','ones_','twos_','threes_','fours_','fives_','sixes_','out','dels']]"
   ]
  },
  {
   "cell_type": "code",
   "execution_count": 47,
   "metadata": {},
   "outputs": [],
   "source": [
    "tt = ta.groupby('rrr')['dots_','ones_','twos_','threes_','fours_','fives_','sixes_','out','dels'].sum().reset_index()"
   ]
  },
  {
   "cell_type": "code",
   "execution_count": 48,
   "metadata": {},
   "outputs": [],
   "source": [
    "tt.dots_ = tt.dots_ / tt.dels;\n",
    "tt.out = tt.out / tt.dels;\n",
    "tt.ones_ = tt.ones_ / tt.dels;\n",
    "tt.twos_ = tt.twos_ / tt.dels;\n",
    "tt.threes_ = tt.threes_ / tt.dels;\n",
    "tt.fours_ = tt.fours_ / tt.dels;\n",
    "tt.fives_ = tt.fives_ / tt.dels;\n",
    "tt.sixes_ = tt.sixes_/ tt.dels;"
   ]
  },
  {
   "cell_type": "code",
   "execution_count": 49,
   "metadata": {},
   "outputs": [
    {
     "data": {
      "text/html": [
       "<div>\n",
       "<style scoped>\n",
       "    .dataframe tbody tr th:only-of-type {\n",
       "        vertical-align: middle;\n",
       "    }\n",
       "\n",
       "    .dataframe tbody tr th {\n",
       "        vertical-align: top;\n",
       "    }\n",
       "\n",
       "    .dataframe thead th {\n",
       "        text-align: right;\n",
       "    }\n",
       "</style>\n",
       "<table border=\"1\" class=\"dataframe\">\n",
       "  <thead>\n",
       "    <tr style=\"text-align: right;\">\n",
       "      <th></th>\n",
       "      <th>rrr</th>\n",
       "      <th>dots_</th>\n",
       "      <th>ones_</th>\n",
       "      <th>twos_</th>\n",
       "      <th>threes_</th>\n",
       "      <th>fours_</th>\n",
       "      <th>fives_</th>\n",
       "      <th>sixes_</th>\n",
       "      <th>out</th>\n",
       "      <th>dels</th>\n",
       "    </tr>\n",
       "  </thead>\n",
       "  <tbody>\n",
       "    <tr>\n",
       "      <th>0</th>\n",
       "      <td>0.0</td>\n",
       "      <td>0.289855</td>\n",
       "      <td>0.297101</td>\n",
       "      <td>0.057971</td>\n",
       "      <td>0.007246</td>\n",
       "      <td>0.195652</td>\n",
       "      <td>0.000000</td>\n",
       "      <td>0.137681</td>\n",
       "      <td>0.014493</td>\n",
       "      <td>138.0</td>\n",
       "    </tr>\n",
       "    <tr>\n",
       "      <th>1</th>\n",
       "      <td>1.0</td>\n",
       "      <td>0.354167</td>\n",
       "      <td>0.354167</td>\n",
       "      <td>0.048611</td>\n",
       "      <td>0.020833</td>\n",
       "      <td>0.138889</td>\n",
       "      <td>0.000000</td>\n",
       "      <td>0.055556</td>\n",
       "      <td>0.027778</td>\n",
       "      <td>144.0</td>\n",
       "    </tr>\n",
       "    <tr>\n",
       "      <th>2</th>\n",
       "      <td>2.0</td>\n",
       "      <td>0.375000</td>\n",
       "      <td>0.379310</td>\n",
       "      <td>0.064655</td>\n",
       "      <td>0.000000</td>\n",
       "      <td>0.116379</td>\n",
       "      <td>0.000000</td>\n",
       "      <td>0.017241</td>\n",
       "      <td>0.047414</td>\n",
       "      <td>232.0</td>\n",
       "    </tr>\n",
       "    <tr>\n",
       "      <th>3</th>\n",
       "      <td>3.0</td>\n",
       "      <td>0.394009</td>\n",
       "      <td>0.327189</td>\n",
       "      <td>0.073733</td>\n",
       "      <td>0.011521</td>\n",
       "      <td>0.089862</td>\n",
       "      <td>0.000000</td>\n",
       "      <td>0.057604</td>\n",
       "      <td>0.046083</td>\n",
       "      <td>434.0</td>\n",
       "    </tr>\n",
       "    <tr>\n",
       "      <th>4</th>\n",
       "      <td>4.0</td>\n",
       "      <td>0.420128</td>\n",
       "      <td>0.365815</td>\n",
       "      <td>0.060703</td>\n",
       "      <td>0.003195</td>\n",
       "      <td>0.099042</td>\n",
       "      <td>0.000000</td>\n",
       "      <td>0.027157</td>\n",
       "      <td>0.023962</td>\n",
       "      <td>626.0</td>\n",
       "    </tr>\n",
       "    <tr>\n",
       "      <th>5</th>\n",
       "      <td>5.0</td>\n",
       "      <td>0.439828</td>\n",
       "      <td>0.310888</td>\n",
       "      <td>0.060888</td>\n",
       "      <td>0.006447</td>\n",
       "      <td>0.113897</td>\n",
       "      <td>0.000000</td>\n",
       "      <td>0.027221</td>\n",
       "      <td>0.040831</td>\n",
       "      <td>1396.0</td>\n",
       "    </tr>\n",
       "    <tr>\n",
       "      <th>6</th>\n",
       "      <td>6.0</td>\n",
       "      <td>0.412484</td>\n",
       "      <td>0.339768</td>\n",
       "      <td>0.067568</td>\n",
       "      <td>0.001931</td>\n",
       "      <td>0.110682</td>\n",
       "      <td>0.000644</td>\n",
       "      <td>0.027671</td>\n",
       "      <td>0.039254</td>\n",
       "      <td>1554.0</td>\n",
       "    </tr>\n",
       "    <tr>\n",
       "      <th>7</th>\n",
       "      <td>7.0</td>\n",
       "      <td>0.422453</td>\n",
       "      <td>0.339495</td>\n",
       "      <td>0.058161</td>\n",
       "      <td>0.004509</td>\n",
       "      <td>0.104148</td>\n",
       "      <td>0.000000</td>\n",
       "      <td>0.032913</td>\n",
       "      <td>0.038323</td>\n",
       "      <td>2218.0</td>\n",
       "    </tr>\n",
       "    <tr>\n",
       "      <th>8</th>\n",
       "      <td>8.0</td>\n",
       "      <td>0.411694</td>\n",
       "      <td>0.355609</td>\n",
       "      <td>0.058473</td>\n",
       "      <td>0.006563</td>\n",
       "      <td>0.100835</td>\n",
       "      <td>0.000000</td>\n",
       "      <td>0.026850</td>\n",
       "      <td>0.039976</td>\n",
       "      <td>1676.0</td>\n",
       "    </tr>\n",
       "    <tr>\n",
       "      <th>9</th>\n",
       "      <td>9.0</td>\n",
       "      <td>0.420041</td>\n",
       "      <td>0.321208</td>\n",
       "      <td>0.070007</td>\n",
       "      <td>0.002745</td>\n",
       "      <td>0.102951</td>\n",
       "      <td>0.000000</td>\n",
       "      <td>0.034317</td>\n",
       "      <td>0.048730</td>\n",
       "      <td>1457.0</td>\n",
       "    </tr>\n",
       "    <tr>\n",
       "      <th>10</th>\n",
       "      <td>10.0</td>\n",
       "      <td>0.404586</td>\n",
       "      <td>0.335790</td>\n",
       "      <td>0.066339</td>\n",
       "      <td>0.003276</td>\n",
       "      <td>0.091728</td>\n",
       "      <td>0.000000</td>\n",
       "      <td>0.041769</td>\n",
       "      <td>0.056511</td>\n",
       "      <td>1221.0</td>\n",
       "    </tr>\n",
       "    <tr>\n",
       "      <th>11</th>\n",
       "      <td>11.0</td>\n",
       "      <td>0.337047</td>\n",
       "      <td>0.406685</td>\n",
       "      <td>0.076602</td>\n",
       "      <td>0.002786</td>\n",
       "      <td>0.079387</td>\n",
       "      <td>0.000000</td>\n",
       "      <td>0.036212</td>\n",
       "      <td>0.061281</td>\n",
       "      <td>718.0</td>\n",
       "    </tr>\n",
       "    <tr>\n",
       "      <th>12</th>\n",
       "      <td>12.0</td>\n",
       "      <td>0.353383</td>\n",
       "      <td>0.343985</td>\n",
       "      <td>0.078947</td>\n",
       "      <td>0.005639</td>\n",
       "      <td>0.099624</td>\n",
       "      <td>0.000000</td>\n",
       "      <td>0.041353</td>\n",
       "      <td>0.077068</td>\n",
       "      <td>532.0</td>\n",
       "    </tr>\n",
       "    <tr>\n",
       "      <th>13</th>\n",
       "      <td>13.0</td>\n",
       "      <td>0.345238</td>\n",
       "      <td>0.351190</td>\n",
       "      <td>0.092262</td>\n",
       "      <td>0.002976</td>\n",
       "      <td>0.077381</td>\n",
       "      <td>0.000000</td>\n",
       "      <td>0.038690</td>\n",
       "      <td>0.092262</td>\n",
       "      <td>336.0</td>\n",
       "    </tr>\n",
       "    <tr>\n",
       "      <th>14</th>\n",
       "      <td>14.0</td>\n",
       "      <td>0.357143</td>\n",
       "      <td>0.371429</td>\n",
       "      <td>0.080952</td>\n",
       "      <td>0.004762</td>\n",
       "      <td>0.071429</td>\n",
       "      <td>0.000000</td>\n",
       "      <td>0.038095</td>\n",
       "      <td>0.076190</td>\n",
       "      <td>210.0</td>\n",
       "    </tr>\n",
       "  </tbody>\n",
       "</table>\n",
       "</div>"
      ],
      "text/plain": [
       "     rrr     dots_     ones_     twos_   threes_    fours_    fives_  \\\n",
       "0    0.0  0.289855  0.297101  0.057971  0.007246  0.195652  0.000000   \n",
       "1    1.0  0.354167  0.354167  0.048611  0.020833  0.138889  0.000000   \n",
       "2    2.0  0.375000  0.379310  0.064655  0.000000  0.116379  0.000000   \n",
       "3    3.0  0.394009  0.327189  0.073733  0.011521  0.089862  0.000000   \n",
       "4    4.0  0.420128  0.365815  0.060703  0.003195  0.099042  0.000000   \n",
       "5    5.0  0.439828  0.310888  0.060888  0.006447  0.113897  0.000000   \n",
       "6    6.0  0.412484  0.339768  0.067568  0.001931  0.110682  0.000644   \n",
       "7    7.0  0.422453  0.339495  0.058161  0.004509  0.104148  0.000000   \n",
       "8    8.0  0.411694  0.355609  0.058473  0.006563  0.100835  0.000000   \n",
       "9    9.0  0.420041  0.321208  0.070007  0.002745  0.102951  0.000000   \n",
       "10  10.0  0.404586  0.335790  0.066339  0.003276  0.091728  0.000000   \n",
       "11  11.0  0.337047  0.406685  0.076602  0.002786  0.079387  0.000000   \n",
       "12  12.0  0.353383  0.343985  0.078947  0.005639  0.099624  0.000000   \n",
       "13  13.0  0.345238  0.351190  0.092262  0.002976  0.077381  0.000000   \n",
       "14  14.0  0.357143  0.371429  0.080952  0.004762  0.071429  0.000000   \n",
       "\n",
       "      sixes_       out    dels  \n",
       "0   0.137681  0.014493   138.0  \n",
       "1   0.055556  0.027778   144.0  \n",
       "2   0.017241  0.047414   232.0  \n",
       "3   0.057604  0.046083   434.0  \n",
       "4   0.027157  0.023962   626.0  \n",
       "5   0.027221  0.040831  1396.0  \n",
       "6   0.027671  0.039254  1554.0  \n",
       "7   0.032913  0.038323  2218.0  \n",
       "8   0.026850  0.039976  1676.0  \n",
       "9   0.034317  0.048730  1457.0  \n",
       "10  0.041769  0.056511  1221.0  \n",
       "11  0.036212  0.061281   718.0  \n",
       "12  0.041353  0.077068   532.0  \n",
       "13  0.038690  0.092262   336.0  \n",
       "14  0.038095  0.076190   210.0  "
      ]
     },
     "execution_count": 49,
     "metadata": {},
     "output_type": "execute_result"
    }
   ],
   "source": [
    "tt.head(15)"
   ]
  },
  {
   "cell_type": "code",
   "execution_count": 50,
   "metadata": {},
   "outputs": [
    {
     "data": {
      "image/png": "[encoded data removed]",
      "text/plain": [
       "<Figure size 432x432 with 1 Axes>"
      ]
     },
     "metadata": {},
     "output_type": "display_data"
    }
   ],
   "source": [
    "tta = tt.rename(index=str, columns={\"rrr\": \"Required Run Rate\", \"out\": \"Probability Of Wicket\"})\n",
    "ax = sns.factorplot(x=\"Required Run Rate\",y=\"Probability Of Wicket\",data=tta[tta[\"Required Run Rate\"].between(0,15)],kind='bar',size=6)\n",
    "plt.title('Wicket Probabilites')\n",
    "plt.show()"
   ]
  },
  {
   "cell_type": "code",
   "execution_count": 51,
   "metadata": {},
   "outputs": [],
   "source": [
    "AvgProbVector = tt[tt.rrr.between(0,20)].drop(['rrr','dels'],axis=1).values"
   ]
  },
  {
   "cell_type": "code",
   "execution_count": 52,
   "metadata": {},
   "outputs": [],
   "source": [
    "tt['StrikeRate'] = (tt.ones_ + 2*tt.twos_ + 3*tt.threes_ + 4*tt.fours_ + 5*tt.fives_ + 6*tt.sixes_)*100"
   ]
  },
  {
   "cell_type": "code",
   "execution_count": 54,
   "metadata": {},
   "outputs": [
    {
     "data": {
      "image/png": "[encoded data removed]",
      "text/plain": [
       "<Figure size 432x432 with 1 Axes>"
      ]
     },
     "metadata": {},
     "output_type": "display_data"
    }
   ],
   "source": [
    "tta = tt.rename(index=str, columns={\"rrr\": \"Required Run Rate\", \"out\": \"Probability Of Wicket\"})\n",
    "ax = sns.factorplot(y=\"Probability Of Wicket\",x=\"StrikeRate\",data=tta[tta[\"Required Run Rate\"].between(0,15)],kind='bar',size=6)\n",
    "plt.title('Wicket Probabilites')\n",
    "plt.show()"
   ]
  },
  {
   "cell_type": "code",
   "execution_count": 55,
   "metadata": {},
   "outputs": [
    {
     "data": {
      "image/png": "[encoded data removed]",
      "text/plain": [
       "<Figure size 432x288 with 1 Axes>"
      ]
     },
     "metadata": {},
     "output_type": "display_data"
    }
   ],
   "source": [
    "ax = plt.plot(AvgProbVector[4:15,:].transpose())\n",
    "plt.title('Outcome Probabilities')\n",
    "plt.legend(np.arange(4,15))\n",
    "plt.show()"
   ]
  },
  {
   "cell_type": "code",
   "execution_count": null,
   "metadata": {},
   "outputs": [],
   "source": []
  },
  {
   "cell_type": "code",
   "execution_count": 56,
   "metadata": {},
   "outputs": [],
   "source": [
    "tk = tt[tt.rrr.between(0,36)].groupby('rrr')['dots_','ones_','twos_','threes_','fours_','fives_','sixes_','out','dels'].sum().reset_index()"
   ]
  },
  {
   "cell_type": "code",
   "execution_count": 57,
   "metadata": {},
   "outputs": [],
   "source": [
    "p = tk.drop(['rrr','dels'],axis=1).values"
   ]
  },
  {
   "cell_type": "code",
   "execution_count": 58,
   "metadata": {},
   "outputs": [],
   "source": [
    "p = tk.drop(['rrr','dels'],axis=1).values"
   ]
  },
  {
   "cell_type": "code",
   "execution_count": 59,
   "metadata": {},
   "outputs": [],
   "source": [
    "aaa = ta[ta.batsman == 'A Bagai']"
   ]
  },
  {
   "cell_type": "code",
   "execution_count": 60,
   "metadata": {},
   "outputs": [],
   "source": [
    "Nprev = 10; NOutcome = 8;\n",
    "x = np.zeros_like(p);\n",
    "th = p;\n",
    "for i,row in aaa.iterrows():\n",
    "    r = int(row['rrr']);\n",
    "    x[r,:] = row[['dots_','ones_','twos_','threes_','fours_','fives_','sixes_','out']].values\n",
    "    th[r,:] = (Nprev*p[r,:] + x[r,:]-1)/(Nprev + row['dels']-1);"
   ]
  },
  {
   "cell_type": "code",
   "execution_count": 61,
   "metadata": {},
   "outputs": [],
   "source": [
    "plays = {}; Nprev = 10; NOutcome = 8;\n",
    "for j,aaa in ta.groupby('batsman'):\n",
    "    x = np.zeros_like(p);\n",
    "    th = p.copy();\n",
    "    for i,row in aaa.iterrows():\n",
    "        r = int(row['rrr']);\n",
    "        if (r < 37) & (r > 0):\n",
    "            x[r,:] = row[['dots_','ones_','twos_','threes_','fours_','fives_','sixes_','out']].values\n",
    "            th[r,:] = (Nprev*p[r,:] + x[r,:])/(Nprev + int(row['dels']));\n",
    "    plays[aaa['batsman'].iloc[0]] = Player(th.transpose())"
   ]
  },
  {
   "cell_type": "code",
   "execution_count": 64,
   "metadata": {},
   "outputs": [
    {
     "data": {
      "image/png": "[encoded data removed]",
      "text/plain": [
       "<Figure size 432x288 with 1 Axes>"
      ]
     },
     "metadata": {},
     "output_type": "display_data"
    }
   ],
   "source": [
    "rrr=3\n",
    "a = np.array([len(plays['Mohammad Amir'].RunTillWicket(rrr)) for i in range(2000)])\n",
    "plt.hist(a); plt.show();"
   ]
  },
  {
   "cell_type": "code",
   "execution_count": 65,
   "metadata": {},
   "outputs": [],
   "source": [
    "class Match:\n",
    "    def __init__(self,PlayerNames):\n",
    "        self.PlayerNames = PlayerNames;\n",
    "        self.Target = 0;\n",
    "        self.Distribution = [];\n",
    "        self.Rates = [5]*11;\n",
    "        self.Players = [plays[Playername] for Playername in PlayerNames];\n",
    "        \n",
    "    def SetTarget(self,Target):\n",
    "        self.Target = Target;\n",
    "        \n",
    "    def AssignRates(self,rrs):\n",
    "        self.Rates = rrs;\n",
    "        \n",
    "    def RunMonteCarlo(self,NTrials,Draw=False):\n",
    "        self.Distribution = np.array([RunMatchOptimized(self.Rates,self.Players) for i in range(NTrials)]);\n",
    "        if Draw:\n",
    "            plt.hist(self.Distribution,bins=15); \n",
    "            plt.xlabel('Runs'); plt.ylabel('Frequency');\n",
    "            #p = WinProb(self.Target)\n",
    "            plt.title('Distribution Of Scores',fontsize=18)\n",
    "            plt.show();\n",
    "        return self.Distribution\n",
    "        \n",
    "    def WinProb(self,Target):\n",
    "        p = (self.Distribution > Target).sum()/len(self.Distribution);\n",
    "        return p"
   ]
  },
  {
   "cell_type": "code",
   "execution_count": 79,
   "metadata": {},
   "outputs": [
    {
     "data": {
      "text/plain": [
       "0.2925"
      ]
     },
     "execution_count": 79,
     "metadata": {},
     "output_type": "execute_result"
    }
   ],
   "source": [
    "#PlayerNames = ['V Kohli','Babar Azam','Mohammad Hafeez','Younis Khan','Misbah-ul-Haq','Shahid Afridi','Sarfraz Ahmed','Imad Wasim','Umar Gul','Junaid Khan','Saeed Ajmal'];\n",
    "#Choose A Team\n",
    "India = ['S Dhawan','RG Sharma','V Kohli','Yuvraj Singh','MS Dhoni','SK Raina','RA Jadeja','R Ashwin','JJ Bumrah','Harbhajan Singh','A Nehra']\n",
    "Match1 = Match(India);\n",
    "Match1.Rates = [8,5,5,5,5,5,8,8,8,8,8];\n",
    "Match1.RunMonteCarlo(400,Draw=False);\n",
    "Match1.WinProb(120)"
   ]
  },
  {
   "cell_type": "code",
   "execution_count": null,
   "metadata": {},
   "outputs": [],
   "source": []
  },
  {
   "cell_type": "code",
   "execution_count": 81,
   "metadata": {},
   "outputs": [
    {
     "data": {
      "image/png": "[encoded data removed]",
      "text/plain": [
       "<Figure size 432x288 with 1 Axes>"
      ]
     },
     "metadata": {},
     "output_type": "display_data"
    }
   ],
   "source": [
    "PlayerNames = ['S Dhawan','RG Sharma','V Kohli','Yuvraj Singh','MS Dhoni','SK Raina','RA Jadeja','R Ashwin','JJ Bumrah','Harbhajan Singh','A Nehra']\n",
    "\n",
    "NTrials = 1000; Target = 160;\n",
    "Players = [plays[Playername] for Playername in PlayerNames];\n",
    "rrs = [5]*11;\n",
    "\n",
    "WinDist = np.array([RunMatchOptimized(rrs,Players) for i in range(NTrials)]);\n",
    "\n",
    "probwin = (WinDist > Target).sum()/NTrials\n",
    "\n",
    "plt.hist(WinDist,bins=10);\n",
    "plt.suptitle(\"Winning Probability = \" + str(int(probwin*100)) + \" %\",fontsize=20)\n",
    "plt.show()"
   ]
  },
  {
   "cell_type": "code",
   "execution_count": 579,
   "metadata": {},
   "outputs": [
    {
     "data": {
      "text/plain": [
       "array(['KL Rahul', 'AT Rayudu', 'Mandeep Singh', 'MK Pandey', 'KM Jadhav',\n",
       "       'MS Dhoni', 'AR Patel', 'R Dhawan', 'DS Kulkarni', 'V Kohli',\n",
       "       'SK Raina', 'Yuvraj Singh', 'HH Pandya', 'Parvez Rasool', 'RR Pant',\n",
       "       'RG Sharma', 'AM Rahane', 'S Dhawan', 'KD Karthik', 'RA Jadeja',\n",
       "       'R Ashwin', 'V Sehwag', 'SR Tendulkar', 'D Mongia', 'G Gambhir',\n",
       "       'RV Uthappa', 'IK Pathan', 'Harbhajan Singh', 'AB Agarkar',\n",
       "       'S Sreesanth', 'RP Singh', 'YK Pathan', 'P Kumar', 'I Sharma',\n",
       "       'Z Khan', 'M Vijay', 'A Nehra', 'AB Dinda', 'PP Ojha', 'NV Ojha',\n",
       "       'PA Patel', 'R Dravid', 'R Vinay Kumar', 'MM Patel', 'S Badrinath',\n",
       "       'MK Tiwary', 'PP Chawla', 'B Kumar', 'STR Binny', 'SV Samson',\n",
       "       'MM Sharma', 'Sandeep Sharma', 'JJ Bumrah'], dtype=object)"
      ]
     },
     "execution_count": 579,
     "metadata": {},
     "output_type": "execute_result"
    }
   ],
   "source": [
    "ad[(ad.BattingTeam == 'India')].Batsman.unique()"
   ]
  },
  {
   "cell_type": "code",
   "execution_count": 589,
   "metadata": {},
   "outputs": [
    {
     "data": {
      "text/plain": [
       "array(['R Ashwin'], dtype=object)"
      ]
     },
     "execution_count": 589,
     "metadata": {},
     "output_type": "execute_result"
    }
   ],
   "source": [
    "ad[ad.Batsman.str.contains('Ashwin')].Batsman.unique()"
   ]
  },
  {
   "cell_type": "code",
   "execution_count": 590,
   "metadata": {
    "collapsed": true
   },
   "outputs": [],
   "source": [
    "India = ['S Dhawan','RG Sharma','V Kohli','Yuvraj Singh','MS Dhoni','SK Raina','RA Jadeja','R Ashwin','JJ Bumrah','B Kumar','A Nehra']"
   ]
  },
  {
   "cell_type": "code",
   "execution_count": null,
   "metadata": {
    "collapsed": true
   },
   "outputs": [],
   "source": [
    "act = (ad.groupby('MatchId')[['Target','Winner','BattingTeam','BowlingTeam','BattingTeamWon']].first().reset_index())\n",
    "actind = act[(act.BowlingTeam == 'India')][['Target','BattingTeamWon']]\n",
    "\n",
    "actind.Target = pd.cut(actind.Target, 10, retbins=True)[0]\n",
    "actind.groupby('Target').BattingTeamWon.sum()\n",
    "#actind.groupby('Target').BattingTeamWon.count()"
   ]
  },
  {
   "cell_type": "code",
   "execution_count": null,
   "metadata": {
    "collapsed": true
   },
   "outputs": [],
   "source": [
    "prs = [1,1,7/9,5/6,2/3,3/7,0,1,1/2,0];\n",
    "x = [81,98,114,131,147,164,180,196,213,229];\n",
    "plt.bar(x,prs,width=10);\n",
    "plt.show()"
   ]
  },
  {
   "cell_type": "code",
   "execution_count": 6,
   "metadata": {},
   "outputs": [
    {
     "data": {
      "image/png": "[encoded data removed]",
      "text/plain": [
       "<matplotlib.figure.Figure at 0x71edb90>"
      ]
     },
     "metadata": {},
     "output_type": "display_data"
    }
   ],
   "source": [
    "plt.hist(ad.groupby('MatchId').first().reset_index().Target.dropna().values);\n",
    "plt.show()"
   ]
  },
  {
   "cell_type": "code",
   "execution_count": 84,
   "metadata": {},
   "outputs": [
    {
     "data": {
      "image/png": "[encoded data removed]",
      "text/plain": [
       "<matplotlib.figure.Figure at 0xddad130>"
      ]
     },
     "metadata": {},
     "output_type": "display_data"
    }
   ],
   "source": [
    "sss = ad.groupby('MatchId').first().reset_index()\n",
    "ax = sns.distplot(sss[sss.BattingTeamWon == True].Target)\n",
    "sns.distplot(sss[sss.BattingTeamWon == False].dropna().Target)\n",
    "ax.set_title(\"Target Distribution For Win & Loss\")\n",
    "ax.set_ylabel(\"Density\")\n",
    "plt.show()"
   ]
  },
  {
   "cell_type": "code",
   "execution_count": 83,
   "metadata": {},
   "outputs": [
    {
     "data": {
      "text/plain": [
       "138.73578595317727"
      ]
     },
     "execution_count": 83,
     "metadata": {},
     "output_type": "execute_result"
    }
   ],
   "source": [
    "sss[sss.BattingTeamWon == False].Target.mean()"
   ]
  },
  {
   "cell_type": "code",
   "execution_count": 127,
   "metadata": {
    "collapsed": true
   },
   "outputs": [],
   "source": [
    "rates = [3,4,5,6,7,8,9,10,11,12,13,14];\n",
    "indices = [(i,j) for j in rates for i in rates]\n",
    "import random\n",
    "a = random.choice(indices)\n",
    "indices.remove(a)"
   ]
  },
  {
   "cell_type": "code",
   "execution_count": 130,
   "metadata": {},
   "outputs": [
    {
     "data": {
      "text/plain": [
       "153.29195804195805"
      ]
     },
     "execution_count": 130,
     "metadata": {},
     "output_type": "execute_result"
    }
   ],
   "source": [
    "sss.Target.mean()"
   ]
  },
  {
   "cell_type": "code",
   "execution_count": null,
   "metadata": {},
   "outputs": [],
   "source": []
  },
  {
   "cell_type": "code",
   "execution_count": null,
   "metadata": {},
   "outputs": [],
   "source": []
  },
  {
   "cell_type": "code",
   "execution_count": null,
   "metadata": {
    "scrolled": true
   },
   "outputs": [],
   "source": []
  },
  {
   "cell_type": "code",
   "execution_count": null,
   "metadata": {},
   "outputs": [],
   "source": []
  },
  {
   "cell_type": "code",
   "execution_count": null,
   "metadata": {
    "scrolled": true
   },
   "outputs": [],
   "source": []
  },
  {
   "cell_type": "code",
   "execution_count": null,
   "metadata": {},
   "outputs": [],
   "source": []
  },
  {
   "cell_type": "code",
   "execution_count": null,
   "metadata": {},
   "outputs": [],
   "source": []
  },
  {
   "cell_type": "code",
   "execution_count": null,
   "metadata": {
    "collapsed": true
   },
   "outputs": [],
   "source": []
  }
 ],
 "metadata": {
  "kernelspec": {
   "display_name": "Python 3",
   "language": "python",
   "name": "python3"
  },
  "language_info": {
   "codemirror_mode": {
    "name": "ipython",
    "version": 3
   },
   "file_extension": ".py",
   "mimetype": "text/x-python",
   "name": "python",
   "nbconvert_exporter": "python",
   "pygments_lexer": "ipython3",
   "version": "3.6.5"
  }
 },
 "nbformat": 4,
 "nbformat_minor": 2
}
